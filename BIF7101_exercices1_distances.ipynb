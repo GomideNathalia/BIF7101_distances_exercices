{
 "cells": [
  {
   "cell_type": "markdown",
   "id": "4f960887",
   "metadata": {},
   "source": [
    "### BIF7101 Bioinformatique des structures\n",
    "### Exercice 1 : Modèles d'évolution et calcul de distances"
   ]
  },
  {
   "cell_type": "markdown",
   "id": "5e8158ae",
   "metadata": {},
   "source": [
    "## Calcul de distances avec des séquences simulées"
   ]
  },
  {
   "cell_type": "markdown",
   "id": "3c35b017",
   "metadata": {},
   "source": [
    "#### Question 1 - Génération d'une séquence aléatoire\n",
    "Implémenter la fonction generer_seq() qui génère une séquence nucléotidique aléatoirement avec des fréquences égales"
   ]
  },
  {
   "cell_type": "code",
   "execution_count": 1,
   "id": "45216780",
   "metadata": {},
   "outputs": [],
   "source": [
    "from random import random, choice\n",
    "\n",
    "def generer_seq(longueur):\n",
    "    \"\"\" Fonction pour générer aléatoirement une séquence nucléotidique avec des fréquences égales\n",
    "    \n",
    "    Paramètres:\n",
    "        longueur (int) : longueur de la séquence à générer\n",
    "    \n",
    "    Retourne:\n",
    "        sequence (str) : séquence ADN aléatoire\n",
    "    \"\"\"\n",
    "\n",
    "    nucleotides = [\"A\", \"C\", \"G\", \"T\"]\n",
    "    \n",
    "    ## Completer le code ##\n",
    "\n",
    "    return sequence"
   ]
  },
  {
   "cell_type": "code",
   "execution_count": 2,
   "id": "106f9a7e",
   "metadata": {},
   "outputs": [
    {
     "data": {
      "text/plain": [
       "'CGCACCAGGGTGTGAAGGAGCATAACCCCCAAAGCTCGTTCCCAAAAAAG'"
      ]
     },
     "execution_count": 2,
     "metadata": {},
     "output_type": "execute_result"
    }
   ],
   "source": [
    "generer_seq(50)"
   ]
  },
  {
   "cell_type": "markdown",
   "id": "f61aab3b",
   "metadata": {},
   "source": [
    "#### Question 2 - Calculer la p-distance\n",
    "\n",
    "Implémenter la fonction $p\\_dist()$ qui calcule la P-distance entre deux séquences nucléotidiques"
   ]
  },
  {
   "cell_type": "code",
   "execution_count": 3,
   "id": "29335966",
   "metadata": {},
   "outputs": [],
   "source": [
    "def p_dist(seq1, seq2):\n",
    "    \"\"\"Calcule de la p_dist entre deux séquences\n",
    "    \n",
    "    Paramètres:\n",
    "        seq1 (str) : séquence nucléotidique\n",
    "        seq2 (str) : séquence nucléotidique\n",
    "    \n",
    "    Retourne:\n",
    "        p_distance (float) : p-distance entre seq1 et seq2\n",
    "    \"\"\"\n",
    "\n",
    "    if len(seq1) != len(seq2):\n",
    "        print(seq1, seq2)\n",
    "        raise Exception(\"Function p_dist received sequences of different length\")\n",
    "\n",
    "    ## Completer le code ##\n",
    "    \n",
    "    return p_distance"
   ]
  },
  {
   "cell_type": "code",
   "execution_count": 4,
   "id": "4b5d7cb4",
   "metadata": {},
   "outputs": [
    {
     "name": "stdout",
     "output_type": "stream",
     "text": [
      "p-distance : 0.736\n"
     ]
    }
   ],
   "source": [
    "seq1 = generer_seq(1000)\n",
    "seq2 = generer_seq(1000)\n",
    "print(\"p-distance : {}\".format(p_dist(seq1, seq2)))"
   ]
  },
  {
   "cell_type": "markdown",
   "id": "8ef57702",
   "metadata": {},
   "source": [
    "#### Question 3 - Calculer la distance corrigée JC69\n",
    "Implémenter la fonction $jc\\_dist()$ qui calcule la distance corrigée JC69 entre deux séquences nucléotidiques"
   ]
  },
  {
   "cell_type": "code",
   "execution_count": 5,
   "id": "f40e9102",
   "metadata": {},
   "outputs": [],
   "source": [
    "import math\n",
    "\n",
    "def jc_dist(seq1, seq2):\n",
    "    \"\"\"Calcule de la distance Jukes-Cantor corrigée entre deux séquences\n",
    "    \n",
    "    Paramètres:\n",
    "        seq1 (str) : séquence nucléotidique\n",
    "        seq2 (str) : séquence nucléotidique\n",
    "    \n",
    "    Retourne:\n",
    "        jc_distance (float) : distance corrigée JC69 entre seq1 et seq2\n",
    "    \"\"\"\n",
    "\n",
    "    if len(seq1) != len(seq2):\n",
    "        raise Exception(\"Function jc_dist received sequences of different length\")\n",
    "\n",
    "    ## Completer le code ##\n",
    "\n",
    "    return jc_distance"
   ]
  },
  {
   "cell_type": "code",
   "execution_count": 6,
   "id": "5d118c91",
   "metadata": {},
   "outputs": [
    {
     "name": "stdout",
     "output_type": "stream",
     "text": [
      "p-distance : 0.729\n",
      "jc distance : 2.681663076605199\n"
     ]
    }
   ],
   "source": [
    "seq1 = generer_seq(1000)\n",
    "seq2 = generer_seq(1000)\n",
    "\n",
    "print(\"p-distance : {}\".format(p_dist(seq1, seq2)))\n",
    "print(\"jc distance : {}\".format(jc_dist(seq1, seq2)))"
   ]
  },
  {
   "cell_type": "markdown",
   "id": "f7d50455",
   "metadata": {},
   "source": [
    "#### Question 4 - Évoluer une séquence avec le modèle JC69\n",
    "Implémenter la fonction jc_evoluer_seq() qui fait évoluer une séquence nucléotidique selon le modèle JC69 (étant donné le taux de substitution instantané *alpha* et un temps d'évolution *t*"
   ]
  },
  {
   "cell_type": "code",
   "execution_count": 7,
   "id": "6fbc3f17",
   "metadata": {},
   "outputs": [],
   "source": [
    "def jc_evoluer_seq(sequence, alpha, temps):\n",
    "    \"\"\"\n",
    "    Simuler une séquence à partir une séquence donnée en utilsant le modèle JC69\n",
    "    \n",
    "    Paramètres:\n",
    "        sequence (str) : séquence nucléotidique\n",
    "        alpha (float) : taux de substitution d'un nucleotide vers un autre \n",
    "        temps (float) : temps d'évolution\n",
    "        \n",
    "    Retourne:\n",
    "        new_seq (str) : séquence nucléotidique\n",
    "    \n",
    "    \"\"\"\n",
    "\n",
    "    ## Completer le code ##\n",
    "\n",
    "    # Probabilité de substitution d'un nucléotide i à un autre j\n",
    "\n",
    "\n",
    "    # Probabailité de substitution totale d'un nucléotide i\n",
    "\n",
    "\n",
    "    # Simulation\n",
    "    # Pour chaque nucleotide de la séquence\n",
    "        # Sampler r de distribution uniforme\n",
    "        # Comparer r avec la prob de subst. totale\n",
    "        # decider de substituer ou de garder le meme nucleotide\n",
    "        # Si substituer, choisir un nucleotide différent de l'orignal\n",
    "\n",
    "    return new_seq"
   ]
  },
  {
   "cell_type": "code",
   "execution_count": 8,
   "id": "4ee691cb",
   "metadata": {},
   "outputs": [
    {
     "name": "stdout",
     "output_type": "stream",
     "text": [
      "p-distance : 0.26\n",
      "jc distance : 0.31925086156926286\n"
     ]
    }
   ],
   "source": [
    "#seq1 = \"A\"*100\n",
    "seq1 = generer_seq(100)\n",
    "seq2 = jc_evoluer_seq(seq1, 0.1, 1)\n",
    "\n",
    "print(\"p-distance : {}\".format(p_dist(seq1, seq2)))\n",
    "print(\"jc distance : {}\".format(jc_dist(seq1, seq2)))"
   ]
  },
  {
   "cell_type": "code",
   "execution_count": 9,
   "id": "0ef995ab",
   "metadata": {},
   "outputs": [],
   "source": [
    "# Ne pas modifier cette fonction\n",
    "from matplotlib import pyplot as plt\n",
    "import seaborn as sns\n",
    "from scipy import  stats\n",
    "\n",
    "def plot_fig(x, y, xlabel, ylabel):\n",
    "\n",
    "    def r2(x, y):\n",
    "        r, p = stats.pearsonr(x, y)\n",
    "        r = r ** 2\n",
    "        return r, p\n",
    "\n",
    "    # https://seaborn.pydata.org/generated/seaborn.jointplot.html\n",
    "    h = sns.jointplot(x=x, y=y, kind=\"reg\")\n",
    "    h.set_axis_labels(xlabel,  ylabel, fontsize=14)\n",
    "\n",
    "    r, p = r2(x, y)\n",
    "    plt.suptitle(f\"R2 is {r:.2f} with p-val {p:.2E}\")\n",
    "    plt.show()"
   ]
  },
  {
   "cell_type": "markdown",
   "id": "d8d1e049",
   "metadata": {},
   "source": [
    "#### Question 5 - Simulation\n",
    "\n",
    "Dans ce dernier exercice, on veut calculer la correlation entre la p-distance et la distance corrigée JC69.\\\n",
    "Completer le code selon le pseudo-code décrit ci-dessous"
   ]
  },
  {
   "cell_type": "code",
   "execution_count": 10,
   "id": "19283779",
   "metadata": {},
   "outputs": [
    {
     "data": {
      "image/png": "[encoded data removed]",
      "text/plain": [
       "<Figure size 432x432 with 3 Axes>"
      ]
     },
     "metadata": {
      "needs_background": "light"
     },
     "output_type": "display_data"
    }
   ],
   "source": [
    "import numpy as np\n",
    "\n",
    "nombre = 1000\n",
    "long_sequence = 10000\n",
    "\n",
    "temps = 1 # temps d'évolution\n",
    "\n",
    "# Générer \"nombre\" valeurs de alpha entre 0 et 0.5\n",
    "alphas = np.linspace(0, 0.5, num=nombre)\n",
    "\n",
    "# listes des p-distances et jc-distances\n",
    "p_dists = []\n",
    "jc_dists = []\n",
    "\n",
    "## Completer le code ##\n",
    "\n",
    "# Pour chaque valeur alpha dans alphas\n",
    "\n",
    "    # Générer une séquence seq_a aléatoire avec longueur long_sequence\n",
    "\n",
    "    \n",
    "    # Évoluer la séquence seq_a en seq_b avec la jc_evoluer_seq() \n",
    "    # en utilisant un alpha et le temps \n",
    "\n",
    "\n",
    "    # Calculer la p-distance entre seq_a et seq_b\n",
    "    # et l'ajouter à la liste p_dists\n",
    "\n",
    "    \n",
    "    # Calculer la jc-distance entre seq_a et seq_b\n",
    "    # et l'ajouter à la liste jc_dists\n",
    "\n",
    "\n",
    "# Ploter la figure jc-dists vs p-dists\n",
    "plot_fig(jc_dists, p_dists, 'JC-dist', 'P-dist')"
   ]
  }
 ],
 "metadata": {
  "kernelspec": {
   "display_name": "Python 3 (ipykernel)",
   "language": "python",
   "name": "python3"
  },
  "language_info": {
   "codemirror_mode": {
    "name": "ipython",
    "version": 3
   },
   "file_extension": ".py",
   "mimetype": "text/x-python",
   "name": "python",
   "nbconvert_exporter": "python",
   "pygments_lexer": "ipython3",
   "version": "3.10.13"
  }
 },
 "nbformat": 4,
 "nbformat_minor": 5
}
